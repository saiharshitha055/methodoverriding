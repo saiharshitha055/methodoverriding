{
 "cells": [
  {
   "cell_type": "code",
   "execution_count": 2,
   "id": "b39b4360",
   "metadata": {},
   "outputs": [
    {
     "name": "stdout",
     "output_type": "stream",
     "text": [
      "=== Employee Details ===\n",
      "Name: Alice\n",
      "Salary: ₹50000\n",
      "\n",
      "=== Manager Details ===\n",
      "Manager Name: Bob\n",
      "Salary: ₹80000\n",
      "Department: IT\n"
     ]
    }
   ],
   "source": [
    "#method overriding \n",
    "class Employee:\n",
    "    def __init__(self, name, salary):\n",
    "        self.name = name\n",
    "        self.salary = salary\n",
    "\n",
    "    def show_details(self):\n",
    "        print(f\"Name: {self.name}\")\n",
    "        print(f\"Salary: ₹{self.salary}\")\n",
    "\n",
    "class Manager(Employee):\n",
    "    def __init__(self, name, salary, department):\n",
    "        super().__init__(name, salary)  # Call the parent class constructor\n",
    "        self.department = department\n",
    "\n",
    "    def show_details(self):\n",
    "        # Overriding the show_details method of Employee\n",
    "        print(f\"Manager Name: {self.name}\")\n",
    "        print(f\"Salary: ₹{self.salary}\")\n",
    "        print(f\"Department: {self.department}\")\n",
    "\n",
    "# Create objects\n",
    "emp1 = Employee(\"Alice\", 50000)\n",
    "mgr1 = Manager(\"Bob\", 80000, \"IT\")\n",
    "\n",
    "# Call show_details() on both\n",
    "print(\"=== Employee Details ===\")\n",
    "emp1.show_details()\n",
    "\n",
    "print(\"\\n=== Manager Details ===\")\n",
    "mgr1.show_details()\n"
   ]
  }
 ],
 "metadata": {
  "kernelspec": {
   "display_name": "Python 3",
   "language": "python",
   "name": "python3"
  },
  "language_info": {
   "codemirror_mode": {
    "name": "ipython",
    "version": 3
   },
   "file_extension": ".py",
   "mimetype": "text/x-python",
   "name": "python",
   "nbconvert_exporter": "python",
   "pygments_lexer": "ipython3",
   "version": "3.8.4"
  }
 },
 "nbformat": 4,
 "nbformat_minor": 5
}
